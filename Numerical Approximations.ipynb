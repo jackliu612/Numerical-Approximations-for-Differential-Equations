{
 "cells": [
  {
   "cell_type": "code",
   "execution_count": 1,
   "metadata": {},
   "outputs": [],
   "source": [
    "import math"
   ]
  },
  {
   "cell_type": "code",
   "execution_count": 2,
   "metadata": {},
   "outputs": [],
   "source": [
    "def euler_approx(F, x0, y0, h, xt, precision=3):\n",
    "    x = x0\n",
    "    y = y0\n",
    "    print('x', 'y', sep='\\t')\n",
    "    print('---------------')\n",
    "    print(round(x, precision), y, sep='\\t')\n",
    "    while (not math.isclose(x, xt)):\n",
    "        y = y + h * F(x, y)\n",
    "        x += h\n",
    "        print(round(x, precision), round(y, precision), sep='\\t')\n",
    "    return y"
   ]
  },
  {
   "cell_type": "code",
   "execution_count": 3,
   "metadata": {},
   "outputs": [],
   "source": [
    "def improved_euler_approx(F, x0, y0, h, xt, precision=3):\n",
    "    x = x0\n",
    "    y = y0\n",
    "    kn1 = F(x,y)\n",
    "    kn2 = F(x+h, y+h*kn1)\n",
    "    print('x', 'y', 'kn1', 'kn2', sep='\\t')\n",
    "    print('--------------------------------')\n",
    "    print(round(x, precision), round(y, precision), round(kn1, precision), round(kn2, precision), sep='\\t')\n",
    "    while (not math.isclose(x, xt)):\n",
    "        y = y + 1/2*h * (kn1+kn2)\n",
    "        x += h\n",
    "        kn1 = F(x,y)\n",
    "        kn2 = F(x+h, y+h*kn1)\n",
    "        print(round(x, precision), round(y, precision), round(kn1, precision), round(kn2, precision), sep='\\t')\n",
    "    return y"
   ]
  },
  {
   "cell_type": "code",
   "execution_count": 4,
   "metadata": {},
   "outputs": [],
   "source": [
    "def RK_approx(F, x0, y0, h, xt, precision=3):\n",
    "    x = x0\n",
    "    y = y0\n",
    "    kn1 = F(x,y)\n",
    "    kn2 = F(x+1/2*h, y+1/2*h*kn1)\n",
    "    kn3 = F(x+1/2*h, y+1/2*h*kn2)\n",
    "    kn4 = F(x+h, y+h*kn3)\n",
    "    print('x', 'y', 'kn1', 'kn2', 'kn3', 'kn4', sep='\\t')\n",
    "    print('----------------------------------------------')\n",
    "    print(round(x, precision), round(y, precision), round(kn1, precision), round(kn2, precision), round(kn3, precision), round(kn4, precision), sep='\\t')\n",
    "    while (not math.isclose(x, xt)):\n",
    "        y = y + 1/6*h * (kn1 + 2*kn2 + 2*kn3 + kn4)\n",
    "        x += h\n",
    "        kn1 = F(x,y)\n",
    "        kn2 = F(x+1/2*h, y+1/2*h*kn1)\n",
    "        kn3 = F(x+1/2*h, y+1/2*h*kn2)\n",
    "        kn4 = F(x+h, y+h*kn3)\n",
    "        print(round(x, precision), round(y, precision), round(kn1, precision), round(kn2, precision), round(kn3, precision), round(kn4, precision), sep='\\t')\n",
    "    return y"
   ]
  },
  {
   "cell_type": "code",
   "execution_count": 5,
   "metadata": {},
   "outputs": [],
   "source": [
    "def F(x, y):\n",
    "    return pow(4*x+9*pow(y,2),1/2)"
   ]
  },
  {
   "cell_type": "code",
   "execution_count": 6,
   "metadata": {},
   "outputs": [],
   "source": [
    "def F1(x, y):\n",
    "    return x-6*y"
   ]
  },
  {
   "cell_type": "code",
   "execution_count": 7,
   "metadata": {},
   "outputs": [
    {
     "name": "stdout",
     "output_type": "stream",
     "text": [
      "x\ty\n",
      "---------------\n",
      "2\t2\n",
      "2.2\t3.327\n",
      "2.4\t5.409\n",
      "2.6\t8.713\n",
      "2.8\t13.98\n",
      "3.0\t22.395\n"
     ]
    },
    {
     "data": {
      "text/plain": [
       "22.395239574298586"
      ]
     },
     "execution_count": 7,
     "metadata": {},
     "output_type": "execute_result"
    }
   ],
   "source": [
    "euler_approx(F, 2, 2, 0.2, 3)"
   ]
  },
  {
   "cell_type": "code",
   "execution_count": 8,
   "metadata": {},
   "outputs": [
    {
     "name": "stdout",
     "output_type": "stream",
     "text": [
      "x\ty\tkn1\tkn2\n",
      "--------------------------------\n",
      "2\t2\t6.633\t10.412\n",
      "2.2\t3.704\t11.503\t18.279\n",
      "2.4\t6.683\t20.286\t32.381\n",
      "2.6\t11.949\t35.993\t57.541\n",
      "2.8\t21.303\t63.996\t102.364\n",
      "3.0\t37.939\t113.869\t182.173\n"
     ]
    },
    {
     "data": {
      "text/plain": [
       "37.93872743833286"
      ]
     },
     "execution_count": 8,
     "metadata": {},
     "output_type": "execute_result"
    }
   ],
   "source": [
    "improved_euler_approx(F, 2, 2, 0.2, 3)"
   ]
  },
  {
   "cell_type": "code",
   "execution_count": 9,
   "metadata": {},
   "outputs": [
    {
     "name": "stdout",
     "output_type": "stream",
     "text": [
      "x\ty\tkn1\tkn2\tkn3\tkn4\n",
      "----------------------------------------------\n",
      "2\t2\t6.633\t8.499\t9.028\t11.796\n",
      "2.2\t3.783\t11.73\t15.173\t16.187\t21.287\n",
      "2.4\t6.974\t21.15\t27.45\t29.328\t38.654\n",
      "2.6\t12.753\t38.394\t49.885\t53.325\t70.333\n",
      "2.8\t23.258\t69.853\t90.792\t97.07\t128.062\n",
      "3.0\t42.379\t127.184\t165.329\t176.771\t233.226\n"
     ]
    },
    {
     "data": {
      "text/plain": [
       "42.37888216793675"
      ]
     },
     "execution_count": 9,
     "metadata": {},
     "output_type": "execute_result"
    }
   ],
   "source": [
    "RK_approx(F, 2, 2, 0.2, 3)"
   ]
  },
  {
   "cell_type": "code",
   "execution_count": 10,
   "metadata": {},
   "outputs": [
    {
     "name": "stdout",
     "output_type": "stream",
     "text": [
      "x\ty\tkn1\tkn2\tkn3\tkn4\n",
      "----------------------------------------------\n",
      "5\t6\t-31\t-7.625\t-25.156\t6.984\n",
      "5.25\t2.268\t-8.355\t-1.964\t-6.758\t2.031\n",
      "5.5\t1.277\t-2.164\t-0.416\t-1.727\t0.676\n",
      "5.75\t1.037\t-0.471\t0.007\t-0.351\t0.306\n",
      "6.0\t1.001\t-0.008\t0.123\t0.025\t0.205\n"
     ]
    },
    {
     "data": {
      "text/plain": [
       "1.0012605367228389"
      ]
     },
     "execution_count": 10,
     "metadata": {},
     "output_type": "execute_result"
    }
   ],
   "source": [
    "RK_approx(F1, 5, 6, 0.25, 6)"
   ]
  },
  {
   "cell_type": "code",
   "execution_count": 11,
   "metadata": {},
   "outputs": [],
   "source": [
    "def F2(x,y) :\n",
    "    return x+y"
   ]
  },
  {
   "cell_type": "code",
   "execution_count": null,
   "metadata": {},
   "outputs": [],
   "source": []
  }
 ],
 "metadata": {
  "kernelspec": {
   "display_name": "Python 3",
   "language": "python",
   "name": "python3"
  },
  "language_info": {
   "codemirror_mode": {
    "name": "ipython",
    "version": 3
   },
   "file_extension": ".py",
   "mimetype": "text/x-python",
   "name": "python",
   "nbconvert_exporter": "python",
   "pygments_lexer": "ipython3",
   "version": "3.7.4"
  }
 },
 "nbformat": 4,
 "nbformat_minor": 2
}
